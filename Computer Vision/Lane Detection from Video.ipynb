{
 "cells": [
  {
   "cell_type": "markdown",
   "metadata": {},
   "source": [
    "# Lane Detection from Video"
   ]
  },
  {
   "cell_type": "markdown",
   "metadata": {},
   "source": [
    "<b>Import Libraries</b>"
   ]
  },
  {
   "cell_type": "code",
   "execution_count": 1,
   "metadata": {},
   "outputs": [],
   "source": [
    "import cv2 as cv\n",
    "import numpy as np"
   ]
  },
  {
   "cell_type": "markdown",
   "metadata": {},
   "source": [
    "<b>Optimization</b>"
   ]
  },
  {
   "cell_type": "code",
   "execution_count": 2,
   "metadata": {},
   "outputs": [],
   "source": [
    "def make_coordinates(image, line):\n",
    "    slope, intercept = line\n",
    "    y1 = int(image.shape[0]) # Initial Y-Coordinate to Draw Lines (Bottom of Image)\n",
    "    y2 = int(y1*3/5)         # Final Y-Coordinate to Draw Lines (Slightly Lower than Middle)\n",
    "    x1 = int((y1-intercept)/slope) # y=mx+c ==> x=(y-c)/m\n",
    "    x2 = int((y2-intercept)/slope) # y=mx+c ==> x=(y-c)/m\n",
    "    return [[x1, y1, x2, y2]]"
   ]
  },
  {
   "cell_type": "code",
   "execution_count": 3,
   "metadata": {},
   "outputs": [],
   "source": [
    "def average_slope_intercept(image, lines):\n",
    "    left_fit = [] # This List will Contain Coordinates of Left Lane Line\n",
    "    right_fit = [] # This List will Contain Coordinates of Right Lane Line\n",
    "    if lines is None:\n",
    "        return None\n",
    "    for line in lines:\n",
    "        for x1,y1,x2,y2 in line:\n",
    "            fit = np.polyfit((x1,x2),(y1,y2),1) # Fits a Polynomial of Degree 1 (Last Argument) to Given Pair of Points (x1,x2),(y1,y2)\n",
    "            slope = fit[0]\n",
    "            intercept = fit[1]\n",
    "            if slope < 0:                           # Deciding Lines Based on Slope (-ve-->Left & +ve-->Right)\n",
    "                left_fit.append((slope, intercept))\n",
    "            else:\n",
    "                right_fit.append((slope, intercept))\n",
    "    if len(left_fit) and len(right_fit):\n",
    "        left_fit_average  = np.average(left_fit, axis=0) # Average Left Line Array Vertically (Axis=0) to get Average Slopes and Intercepts\n",
    "        right_fit_average = np.average(right_fit, axis=0) # Average Right Line Array Vertically (Axis=0) to get Average Slopes and Intercepts\n",
    "        left_line  = make_coordinates(image, left_fit_average) # Draw Left Line Based on Coordinates, Slope and Intercept\n",
    "        right_line = make_coordinates(image, right_fit_average) # Draw Right Line Based on Coordinates, Slope and Intercept\n",
    "        averaged_lines = [left_line, right_line]\n",
    "        return averaged_lines"
   ]
  },
  {
   "cell_type": "markdown",
   "metadata": {},
   "source": [
    "<b>Image Processing</b>"
   ]
  },
  {
   "cell_type": "code",
   "execution_count": 4,
   "metadata": {},
   "outputs": [],
   "source": [
    "def gradient(image):\n",
    "    gray_image = cv.cvtColor(image, cv.COLOR_RGB2GRAY) # Convert to Grayscale\n",
    "    smooth_image = cv.GaussianBlur(gray_image,(5,5),0) # Gaussian Blur (Smoothening)\n",
    "    gradient_image = cv.Canny(gray_image,50,150)       # Canny Edge Detection (Gradients)\n",
    "    return gradient_image"
   ]
  },
  {
   "cell_type": "markdown",
   "metadata": {},
   "source": [
    "<b>Lane Detection from Gradient Image (Line Detection using Hough Transform)</b>"
   ]
  },
  {
   "cell_type": "code",
   "execution_count": 5,
   "metadata": {},
   "outputs": [],
   "source": [
    "def display_detected_lines(image,lines):\n",
    "    line_image = np.zeros_like(image) #Black Image\n",
    "    if lines is not None:\n",
    "        for line in lines:\n",
    "            for x1,y1,x2,y2 in line:\n",
    "                cv.line(line_image,(x1,y1),(x2,y2),(0,255,0),10) #Arguments: Image, First Point Coordinate to Draw Line, Second Point Coordinate to Draw Line, Color of the Line [BGR], Line Thickness\n",
    "    return line_image"
   ]
  },
  {
   "cell_type": "markdown",
   "metadata": {},
   "source": [
    "<b>Region of Interest</b>"
   ]
  },
  {
   "cell_type": "code",
   "execution_count": 6,
   "metadata": {},
   "outputs": [],
   "source": [
    "def region_of_interest(gradient_image):\n",
    "    height = gradient_image.shape[0]\n",
    "    width = gradient_image.shape[1]\n",
    "    ROI = np.array([[(200, height),(550, 250),(1100, height),]]) #Defining Triangular ROI\n",
    "    mask = np.zeros_like(gradient_image) # Create Mask (Black Image) of Same Dimension as Image\n",
    "    cv.fillPoly(mask,ROI,255) # Fill Mask with White ROI\n",
    "    masked_image = cv.bitwise_and(mask,gradient_image) # Bitwise AND Source Image and Mask to Obtain Masked Image\n",
    "    return masked_image"
   ]
  },
  {
   "cell_type": "markdown",
   "metadata": {},
   "source": [
    "<b>Import and Process Video</b>"
   ]
  },
  {
   "cell_type": "code",
   "execution_count": 7,
   "metadata": {},
   "outputs": [
    {
     "name": "stdout",
     "output_type": "stream",
     "text": [
      "END OF VIDEO\n"
     ]
    }
   ],
   "source": [
    "video = cv.VideoCapture(\"Road.mp4\")\n",
    "while(video.isOpened()):\n",
    "    ret,frame = video.read() # \"Ret\" will Return Boolean Value Regarding Getting the Frame (TRUE or FALSE) | \"Frame\" will Get Next Frame\n",
    "    if ret:\n",
    "        gradient_image = gradient(frame)\n",
    "        ROI = region_of_interest(gradient_image)\n",
    "        lines = cv.HoughLinesP(ROI,2,np.pi/180,100,np.array([]),minLineLength=40,maxLineGap=100) # Arguments:\n",
    "                                                                                                 # Image for Line Detection = Region of Interest Image\n",
    "                                                                                                 # Rho Accuracy = 2 Pixel\n",
    "                                                                                                 # Theta Accuracy = pi/180 = (1 Degree)\n",
    "                                                                                                 # Threshold (Minimum Number of Votes to Consider a Line) = 100\n",
    "                                                                                                 # Placeholder Argument = Empty Array\n",
    "                                                                                                 # Threshold Length of Detected Line = 40 Pixels\n",
    "                                                                                                 # Maximum Distance between 2 Lines to Consider them as a Single Line = 100 Pixels\n",
    "                                                                                                 # Returns: Lines as 2D Arrays of Points\n",
    "        averaged_lines = average_slope_intercept(frame,lines)\n",
    "        line_image = display_detected_lines(frame,averaged_lines)\n",
    "        lanes_detected_image = cv.addWeighted(frame,0.8,line_image,1,0) #Arguments: Image Array 1, Weight 1, Image Array 2 (Same Size as Image Array 1), Weight 2, Gamma = Scalar Added to Each Sum\n",
    "        cv.imshow(\"Lane Detection\", lanes_detected_image)\n",
    "        cv.waitKey(1)\n",
    "        if cv.waitKey(1) & 0xFF == ord(' '):\n",
    "            break\n",
    "    else:\n",
    "        print('END OF VIDEO')\n",
    "        break\n",
    "video.release()\n",
    "cv.destroyAllWindows()"
   ]
  }
 ],
 "metadata": {
  "kernelspec": {
   "display_name": "Python 3",
   "language": "python",
   "name": "python3"
  },
  "language_info": {
   "codemirror_mode": {
    "name": "ipython",
    "version": 3
   },
   "file_extension": ".py",
   "mimetype": "text/x-python",
   "name": "python",
   "nbconvert_exporter": "python",
   "pygments_lexer": "ipython3",
   "version": "3.6.8"
  }
 },
 "nbformat": 4,
 "nbformat_minor": 2
}
